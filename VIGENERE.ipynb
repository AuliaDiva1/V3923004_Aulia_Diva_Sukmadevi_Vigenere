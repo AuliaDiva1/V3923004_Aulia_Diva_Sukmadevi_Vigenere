{
 "cells": [
  {
   "cell_type": "code",
   "execution_count": 1,
   "id": "40d7ac23-840e-476b-bc55-aea100f42af9",
   "metadata": {},
   "outputs": [
    {
     "name": "stdout",
     "output_type": "stream",
     "text": [
      "Plaintext: AULIADIVASUKMADEVI\n",
      "Enkripsi: MUOQUQUVDAOXYAGMPV\n",
      "Dekripsi: AULIADIVASUKMADEVI\n"
     ]
    }
   ],
   "source": [
    "\n",
    "def vigenere_encrypt(plaintext, key):\n",
    "    ciphertext = \"\"  \n",
    "    key = key.upper()\n",
    "    key_len = len(key)\n",
    "    \n",
    "    key_index = 0  # Menjaga indeks kunci yang sinkron hanya untuk huruf\n",
    "    for char in plaintext:\n",
    "        if char.isalpha():\n",
    "            shift = ord(key[key_index % key_len]) - ord('A')\n",
    "            if char.islower():\n",
    "                ciphertext += chr(((ord(char) - ord('a') + shift) % 26) + ord('a'))\n",
    "            else:\n",
    "                ciphertext += chr(((ord(char) - ord('A') + shift) % 26) + ord('A'))\n",
    "            key_index += 1  # Hanya increment jika karakter adalah huruf\n",
    "        else:\n",
    "            ciphertext += char\n",
    "    \n",
    "    return ciphertext\n",
    "\n",
    "def vigenere_decrypt(ciphertext, key):\n",
    "    plaintext = \"\"  \n",
    "    key = key.upper()\n",
    "    key_len = len(key)\n",
    "    \n",
    "    key_index = 0\n",
    "    for char in ciphertext:\n",
    "        if char.isalpha():\n",
    "            shift = ord(key[key_index % key_len]) - ord('A')\n",
    "            if char.islower():\n",
    "                plaintext += chr(((ord(char) - ord('a') - shift) % 26) + ord('a'))\n",
    "            else:\n",
    "                plaintext += chr(((ord(char) - ord('A') - shift) % 26) + ord('A'))\n",
    "            key_index += 1\n",
    "        else:\n",
    "            plaintext += char\n",
    "    \n",
    "    return plaintext\n",
    "\n",
    "# Contoh penggunaan\n",
    "plaintext = \"AULIADIVASUKMADEVI\"\n",
    "key = \"MADIUN\"\n",
    "\n",
    "encrypted_text = vigenere_encrypt(plaintext, key)\n",
    "decrypted_text = vigenere_decrypt(encrypted_text, key)\n",
    "\n",
    "print(\"Plaintext:\", plaintext)\n",
    "print(\"Enkripsi:\", encrypted_text)\n",
    "print(\"Dekripsi:\", decrypted_text)\n",
    "\n",
    " \n",
    " "
   ]
  },
  {
   "cell_type": "code",
   "execution_count": null,
   "id": "a1852fc3-2a94-484b-a7c7-6e6a7ed36d0d",
   "metadata": {},
   "outputs": [],
   "source": []
  }
 ],
 "metadata": {
  "kernelspec": {
   "display_name": "Python 3 (ipykernel)",
   "language": "python",
   "name": "python3"
  },
  "language_info": {
   "codemirror_mode": {
    "name": "ipython",
    "version": 3
   },
   "file_extension": ".py",
   "mimetype": "text/x-python",
   "name": "python",
   "nbconvert_exporter": "python",
   "pygments_lexer": "ipython3",
   "version": "3.12.4"
  }
 },
 "nbformat": 4,
 "nbformat_minor": 5
}
